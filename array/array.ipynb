{
 "cells": [
  {
   "cell_type": "markdown",
   "metadata": {},
   "source": [
    "## ARRAY RELATED PROBLEMS"
   ]
  },
  {
   "cell_type": "markdown",
   "metadata": {},
   "source": [
    "## 1. Find Alternate"
   ]
  },
  {
   "cell_type": "markdown",
   "metadata": {},
   "source": [
    "Given an array arr[], the task is to print every alternate element of the array starting from the first element.\n",
    "\n",
    "Input: arr[] = [10, 20, 30, 40, 50]\n",
    "Output: 10 30 50\n",
    "Explanation: Print the first element (10), skip the second element (20), print the third element (30), skip the fourth element(40) and print the fifth element(50).\n",
    "\n",
    "Input: arr[] = [-5, 1, 4, 2, 12]\n",
    "Output: -5 4 12"
   ]
  },
  {
   "cell_type": "markdown",
   "metadata": {},
   "source": [
    "## Iterative Method.\n",
    "- Time complexity: O(n)"
   ]
  },
  {
   "cell_type": "code",
   "execution_count": 2,
   "metadata": {},
   "outputs": [
    {
     "name": "stdout",
     "output_type": "stream",
     "text": [
      "200\n",
      "400\n",
      "600\n"
     ]
    }
   ],
   "source": [
    "arr = [200, 300, 400, 500, 600]\n",
    "\n",
    "for i in range(0, len(arr), 2):\n",
    "    print(arr[i])"
   ]
  },
  {
   "cell_type": "markdown",
   "metadata": {},
   "source": [
    "## Recursive Method\n",
    "\n",
    "- Time complexity: O(n)"
   ]
  },
  {
   "cell_type": "code",
   "execution_count": 15,
   "metadata": {},
   "outputs": [
    {
     "name": "stdout",
     "output_type": "stream",
     "text": [
      "23 B 27 30 23 25 27 29 100 W\n"
     ]
    }
   ],
   "source": [
    "from typing import List, Any\n",
    "\n",
    "\n",
    "def compute_alternate_rec(\n",
    "    arr: List[Any] = [],\n",
    "    alt_rec: List[Any] = [],\n",
    "    index: int = 0,\n",
    ") -> None:\n",
    "\n",
    "    if index < len(arr):\n",
    "        alt_rec.append(arr[index])\n",
    "        compute_alternate_rec(arr, alt_rec, index + 2)\n",
    "\n",
    "\n",
    "def get_alternate(arr: List[Any]) -> List:\n",
    "    alt_rec = []\n",
    "    compute_alternate_rec(arr, alt_rec, 0)\n",
    "    return alt_rec\n",
    "\n",
    "\n",
    "alternate_record = get_alternate(\n",
    "    [23, \"A\", \"B\", 25, 27, 29, 30, 78, 23, 24, 25, 26, 27, 28, 29, 30, 100, 12, \"W\"]\n",
    ")\n",
    "\n",
    "print(\" \".join(map(str, alternate_record)))"
   ]
  },
  {
   "cell_type": "markdown",
   "metadata": {},
   "source": [
    "## 2. Leaders in an Array\n",
    "- Time complexity: O(n^2)"
   ]
  },
  {
   "cell_type": "code",
   "execution_count": 4,
   "metadata": {},
   "outputs": [
    {
     "data": {
      "text/plain": [
       "[17, 5, 2]"
      ]
     },
     "execution_count": 4,
     "metadata": {},
     "output_type": "execute_result"
    }
   ],
   "source": [
    "def find_leaders(arr: List[int]) -> List[int]:\n",
    "    res = []\n",
    "    n = len(arr)\n",
    "\n",
    "    for i in range(n):\n",
    "\n",
    "        for j in range(i + 1, n):\n",
    "            if arr[i] < arr[j]:\n",
    "                break\n",
    "        else:\n",
    "            res.append(arr[i])\n",
    "\n",
    "    return res\n",
    "\n",
    "\n",
    "arr = [16, 17, 4, 3, 5, 2]\n",
    "leaders = find_leaders(arr)\n",
    "leaders"
   ]
  },
  {
   "cell_type": "markdown",
   "metadata": {},
   "source": [
    "## Suffix Max Method\n",
    "- Time Complexity: O(n)"
   ]
  },
  {
   "cell_type": "code",
   "execution_count": 5,
   "metadata": {},
   "outputs": [
    {
     "data": {
      "text/plain": [
       "[17, 5, 2]"
      ]
     },
     "execution_count": 5,
     "metadata": {},
     "output_type": "execute_result"
    }
   ],
   "source": [
    "def get_leader(arr: List[int]):\n",
    "    res = []\n",
    "    n = len(arr)\n",
    "\n",
    "    # Max right is always the leader\n",
    "    max_right = arr[-1]\n",
    "\n",
    "    res.append(max_right)\n",
    "\n",
    "    for i in range(n - 2, -1, -1):\n",
    "        if arr[i] > max_right:\n",
    "            max_right = arr[i]\n",
    "            res.append(max_right)\n",
    "    res.reverse()\n",
    "    return res\n",
    "\n",
    "\n",
    "arr = [16, 17, 4, 3, 5, 2]\n",
    "leaders = get_leader(arr)\n",
    "leaders"
   ]
  },
  {
   "cell_type": "markdown",
   "metadata": {},
   "source": [
    "### Generating All Sub-Arrays\n",
    "- Time complexity: O(n^3)"
   ]
  },
  {
   "cell_type": "code",
   "execution_count": 21,
   "metadata": {},
   "outputs": [
    {
     "name": "stdout",
     "output_type": "stream",
     "text": [
      "1 \n",
      "1 2 \n",
      "1 2 3 \n",
      "1 2 3 4 \n",
      "2 \n",
      "2 3 \n",
      "2 3 4 \n",
      "3 \n",
      "3 4 \n",
      "4 \n"
     ]
    }
   ],
   "source": [
    "def sub_array(arr: List[int]):\n",
    "    n = len(arr)\n",
    "\n",
    "    # pick the starting point\n",
    "    for i in range(n):\n",
    "\n",
    "        # pick the ending point\n",
    "        for j in range(i, n):\n",
    "\n",
    "            for k in range(i, j + 1):\n",
    "\n",
    "                print(arr[k], end=\" \")\n",
    "            print()\n",
    "\n",
    "\n",
    "arr = [1, 2, 3, 4]\n",
    "sub_array(arr)"
   ]
  },
  {
   "cell_type": "code",
   "execution_count": null,
   "metadata": {},
   "outputs": [],
   "source": []
  },
  {
   "cell_type": "code",
   "execution_count": null,
   "metadata": {},
   "outputs": [],
   "source": []
  }
 ],
 "metadata": {
  "kernelspec": {
   "display_name": "Python 3",
   "language": "python",
   "name": "python3"
  },
  "language_info": {
   "codemirror_mode": {
    "name": "ipython",
    "version": 3
   },
   "file_extension": ".py",
   "mimetype": "text/x-python",
   "name": "python",
   "nbconvert_exporter": "python",
   "pygments_lexer": "ipython3",
   "version": "3.9.5"
  }
 },
 "nbformat": 4,
 "nbformat_minor": 2
}
